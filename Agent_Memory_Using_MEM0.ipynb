{
  "nbformat": 4,
  "nbformat_minor": 0,
  "metadata": {
    "colab": {
      "provenance": [],
      "include_colab_link": true
    },
    "kernelspec": {
      "name": "python3",
      "display_name": "Python 3"
    },
    "language_info": {
      "name": "python"
    }
  },
  "cells": [
    {
      "cell_type": "markdown",
      "metadata": {
        "id": "view-in-github",
        "colab_type": "text"
      },
      "source": [
        "<a href=\"https://colab.research.google.com/github/m-adeleke1/Association_of_Data_Scientists/blob/main/Agent_Memory_Using_MEM0.ipynb\" target=\"_parent\"><img src=\"https://colab.research.google.com/assets/colab-badge.svg\" alt=\"Open In Colab\"/></a>"
      ]
    },
    {
      "cell_type": "markdown",
      "source": [
        "### Library Installation"
      ],
      "metadata": {
        "id": "HCighA3DgE54"
      }
    },
    {
      "cell_type": "code",
      "execution_count": 6,
      "metadata": {
        "colab": {
          "base_uri": "https://localhost:8080/"
        },
        "id": "m4qBpRoQNevf",
        "outputId": "d3e7e08c-26a5-413c-e292-78f2f22fda89"
      },
      "outputs": [
        {
          "output_type": "stream",
          "name": "stdout",
          "text": [
            "\u001b[33mWARNING: Skipping autogen as it is not installed.\u001b[0m\u001b[33m\n",
            "\u001b[0m\u001b[33mWARNING: Skipping autogen-core as it is not installed.\u001b[0m\u001b[33m\n",
            "\u001b[0m\u001b[33mWARNING: Skipping autogen-agentchat as it is not installed.\u001b[0m\u001b[33m\n",
            "\u001b[2K     \u001b[90m━━━━━━━━━━━━━━━━━━━━━━━━━━━━━━━━━━━━━━━━\u001b[0m \u001b[32m62.1/62.1 kB\u001b[0m \u001b[31m4.8 MB/s\u001b[0m eta \u001b[36m0:00:00\u001b[0m\n",
            "\u001b[2K   \u001b[90m━━━━━━━━━━━━━━━━━━━━━━━━━━━━━━━━━━━━━━━━\u001b[0m \u001b[32m16.6/16.6 MB\u001b[0m \u001b[31m59.5 MB/s\u001b[0m eta \u001b[36m0:00:00\u001b[0m\n",
            "\u001b[?25h\u001b[31mERROR: pip's dependency resolver does not currently take into account all the packages that are installed. This behaviour is the source of the following dependency conflicts.\n",
            "pyautogen 0.2.35 requires numpy<2,>=1.17.0, but you have numpy 2.3.2 which is incompatible.\n",
            "opencv-python-headless 4.12.0.88 requires numpy<2.3.0,>=2; python_version >= \"3.9\", but you have numpy 2.3.2 which is incompatible.\n",
            "cupy-cuda12x 13.3.0 requires numpy<2.3,>=1.22, but you have numpy 2.3.2 which is incompatible.\n",
            "opencv-contrib-python 4.12.0.88 requires numpy<2.3.0,>=2; python_version >= \"3.9\", but you have numpy 2.3.2 which is incompatible.\n",
            "opencv-python 4.12.0.88 requires numpy<2.3.0,>=2; python_version >= \"3.9\", but you have numpy 2.3.2 which is incompatible.\n",
            "tensorflow 2.19.0 requires numpy<2.2.0,>=1.26.0, but you have numpy 2.3.2 which is incompatible.\n",
            "numba 0.60.0 requires numpy<2.1,>=1.22, but you have numpy 2.3.2 which is incompatible.\u001b[0m\u001b[31m\n",
            "\u001b[2K   \u001b[90m━━━━━━━━━━━━━━━━━━━━━━━━━━━━━━━━━━━━━━━━\u001b[0m \u001b[32m70.1/70.1 MB\u001b[0m \u001b[31m9.2 MB/s\u001b[0m eta \u001b[36m0:00:00\u001b[0m\n",
            "\u001b[?25h\u001b[31mERROR: pip's dependency resolver does not currently take into account all the packages that are installed. This behaviour is the source of the following dependency conflicts.\n",
            "opencv-python-headless 4.12.0.88 requires numpy<2.3.0,>=2; python_version >= \"3.9\", but you have numpy 1.26.4 which is incompatible.\n",
            "opencv-contrib-python 4.12.0.88 requires numpy<2.3.0,>=2; python_version >= \"3.9\", but you have numpy 1.26.4 which is incompatible.\n",
            "opencv-python 4.12.0.88 requires numpy<2.3.0,>=2; python_version >= \"3.9\", but you have numpy 1.26.4 which is incompatible.\n",
            "thinc 8.3.6 requires numpy<3.0.0,>=2.0.0, but you have numpy 1.26.4 which is incompatible.\u001b[0m\u001b[31m\n",
            "\u001b[0mautogen spec: ModuleSpec(name='autogen', loader=<_frozen_importlib_external.SourceFileLoader object at 0x780fdc66b9b0>, origin='/usr/local/lib/python3.12/dist-packages/autogen/__init__.py', submodule_search_locations=['/usr/local/lib/python3.12/dist-packages/autogen'])\n",
            "mem0 spec: ModuleSpec(name='mem0', loader=<_frozen_importlib_external.SourceFileLoader object at 0x780fdccc2ea0>, origin='/usr/local/lib/python3.12/dist-packages/mem0/__init__.py', submodule_search_locations=['/usr/local/lib/python3.12/dist-packages/mem0'])\n"
          ]
        }
      ],
      "source": [
        "# !pip install pyautogen autogen-agentchat mem0ai\n",
        "# !pip install -q --upgrade \"pyautogen\"\n",
        "# !pip install -q --upgrade \"mem0ai\"\n",
        "\n",
        "# import sys\n",
        "# print(\"Using Python:\", sys.executable)\n",
        "\n",
        "# Force-install into THIS interpreter:\n",
        "# !{sys.executable} -m pip install -q --upgrade pyautogen mem0ai\n",
        "\n",
        "# import sys\n",
        "# !{sys.executable} -m pip uninstall -y autogen autogen-agentchat autogen-core || true\n",
        "# !{sys.executable} -m pip install -q --upgrade pyautogen\n",
        "\n",
        "# import sys\n",
        "\n",
        "# 1) Clean out anything modular/new\n",
        "# !{sys.executable} -m pip uninstall -y autogen autogen-agentchat autogen-core || true\n",
        "\n",
        "# 2) Install the legacy API (0.2.x line)\n",
        "# !{sys.executable} -m pip install -U \"pyautogen~=0.2.0\"\n",
        "\n",
        "import sys\n",
        "# Remove modular/new packages if present\n",
        "!{sys.executable} -m pip uninstall -y autogen autogen-core autogen-agentchat || true\n",
        "\n",
        "# Make sure NumPy is consistent (force reinstall)\n",
        "!{sys.executable} -m pip install -q --upgrade --force-reinstall --no-cache-dir \"numpy>=2.0\"\n",
        "\n",
        "# Install dependencies required by legacy AutoGen 0.2.x\n",
        "!{sys.executable} -m pip install -q --upgrade \"ray>=2.30\" \"flaml>=2.1.0\"\n",
        "\n",
        "# Finally install legacy AutoGen (0.2.x line)\n",
        "!{sys.executable} -m pip install -q --upgrade \"pyautogen~=0.2.0\" \"mem0ai\"\n",
        "\n",
        "import importlib.util, sys\n",
        "\n",
        "print(\"autogen spec:\", importlib.util.find_spec(\"autogen\"))\n",
        "print(\"mem0 spec:\", importlib.util.find_spec(\"mem0\"))"
      ]
    },
    {
      "cell_type": "markdown",
      "source": [
        "### API Initialisation"
      ],
      "metadata": {
        "id": "3Bt5gCkbgHCm"
      }
    },
    {
      "cell_type": "code",
      "source": [
        "from google.colab import userdata\n",
        "import os\n",
        "\n",
        "os.environ['OPENAI_API_KEY'] = userdata.get('OPENAI_API_KEY')\n",
        "os.environ['MEM0_API_KEY'] = userdata.get('MEM0_API_KEY')"
      ],
      "metadata": {
        "id": "lunjgnqRNgHC"
      },
      "execution_count": 1,
      "outputs": []
    },
    {
      "cell_type": "markdown",
      "source": [
        "### Agent Configuration with MemO"
      ],
      "metadata": {
        "id": "cfRHcXPagJce"
      }
    },
    {
      "cell_type": "code",
      "source": [
        "from autogen import ConversableAgent\n",
        "from mem0 import MemoryClient"
      ],
      "metadata": {
        "id": "BH_lQNFaOB0g",
        "colab": {
          "base_uri": "https://localhost:8080/"
        },
        "outputId": "9e7f4bdd-03fa-41de-a6f2-96755f5d9e7f"
      },
      "execution_count": 2,
      "outputs": [
        {
          "output_type": "stream",
          "name": "stderr",
          "text": [
            "/usr/local/lib/python3.12/dist-packages/jupyter_client/session.py:151: DeprecationWarning: datetime.datetime.utcnow() is deprecated and scheduled for removal in a future version. Use timezone-aware objects to represent datetimes in UTC: datetime.datetime.now(datetime.UTC).\n",
            "  return datetime.utcnow().replace(tzinfo=utc)\n"
          ]
        }
      ]
    },
    {
      "cell_type": "code",
      "source": [
        "agent = ConversableAgent(\n",
        "    \"chatbot\",\n",
        "    llm_config={\"config_list\": [{\"model\": \"gpt-4o\", \"api_key\": os.environ.get(\"OPENAI_API_KEY\")}]},\n",
        "    code_execution_config=False,\n",
        "    function_map=None,\n",
        "    human_input_mode=\"NEVER\",\n",
        ")\n",
        "\n",
        "memory = MemoryClient()"
      ],
      "metadata": {
        "id": "Zbv4-oFSOFdh",
        "colab": {
          "base_uri": "https://localhost:8080/"
        },
        "outputId": "6a9422fd-35f8-4440-e3c5-36df0386f873"
      },
      "execution_count": 3,
      "outputs": [
        {
          "output_type": "stream",
          "name": "stderr",
          "text": [
            "/usr/local/lib/python3.12/dist-packages/jupyter_client/session.py:151: DeprecationWarning: datetime.datetime.utcnow() is deprecated and scheduled for removal in a future version. Use timezone-aware objects to represent datetimes in UTC: datetime.datetime.now(datetime.UTC).\n",
            "  return datetime.utcnow().replace(tzinfo=utc)\n"
          ]
        }
      ]
    },
    {
      "cell_type": "markdown",
      "source": [
        "### Providing context for memory saving"
      ],
      "metadata": {
        "id": "gGWYF5hsgPcp"
      }
    },
    {
      "cell_type": "code",
      "source": [
        "conversation = [\n",
        "  {\n",
        "    \"role\": \"assistant\",\n",
        "    \"content\": \"Hello, I’m MedCare's virtual assistant.\\n\\nThank you for trusting MedCare Health System. How can I assist you today?\"\n",
        "  },\n",
        "  {\n",
        "    \"role\": \"user\",\n",
        "    \"content\": \"I've been having recurring chest pain and would like to get admitted for observation.\"\n",
        "  },\n",
        "  {\n",
        "    \"role\": \"assistant\",\n",
        "    \"content\": \"I’m really sorry to hear that you’re experiencing this. Your health is our priority, and I’m here to help you every step of the way.\\n\\nTo get started, may I have your full name and date of birth, so I can access your patient profile?\"\n",
        "  },\n",
        "  {\n",
        "    \"role\": \"user\",\n",
        "    \"content\": \"Name: John Doe, DOB: 03/14/1985\"\n",
        "  },\n",
        "  {\n",
        "    \"role\": \"assistant\",\n",
        "    \"content\": \"Thank you, John. I’ve located your record in our system.\\n\\nBefore proceeding, may I also have the email address or phone number associated with your MedCare account for verification?\"\n",
        "  },\n",
        "  {\n",
        "    \"role\": \"user\",\n",
        "    \"content\": \"john.doe@email.com\"\n",
        "  },\n",
        "  {\n",
        "    \"role\": \"assistant\",\n",
        "    \"content\": \"Perfect, thank you for confirming your details.\\n\\nJohn, we take symptoms like chest pain very seriously. I can help you schedule a direct admission to our observation unit.\\n\\nMay I ask when you first began experiencing these symptoms and whether you have any history of heart-related conditions?\"\n",
        "  },\n",
        "  {\n",
        "    \"role\": \"user\",\n",
        "    \"content\": \"It started about three days ago. No previous heart conditions that I know of.\"\n",
        "  },\n",
        "  {\n",
        "    \"role\": \"assistant\",\n",
        "    \"content\": \"Thanks for the information. I’ll include this in your intake form for the clinical team.\\n\\nSince this is a recurring issue and not an emergency at the moment, I recommend we schedule a priority admission tomorrow for observation and testing.\\n\\nWould you like me to go ahead and confirm the admission for tomorrow?\"\n",
        "  },\n",
        "  {\n",
        "    \"role\": \"user\",\n",
        "    \"content\": \"Yes, please.\"\n",
        "  },\n",
        "  {\n",
        "    \"role\": \"assistant\",\n",
        "    \"content\": \"Thank you. I’m confirming an admission for tomorrow.\\n\\nOur patient coordinator will contact you within the next 2 hours with further instructions and to assist with pre-admission paperwork.\\n\\nIs there anything else I can help you with right now, John?\"\n",
        "  },\n",
        "  {\n",
        "    \"role\": \"user\",\n",
        "    \"content\": \"No, that's all. Thanks a lot!\"\n",
        "  },\n",
        "  {\n",
        "    \"role\": \"assistant\",\n",
        "    \"content\": \"You’re very welcome. Wishing you a quick recovery and we're here for you whenever you need us.\\n\\nTake care, John.\"\n",
        "  }\n",
        "]\n",
        "\n",
        "memory.add(messages=conversation, user_id=\"patient_admission_bot\")"
      ],
      "metadata": {
        "colab": {
          "base_uri": "https://localhost:8080/"
        },
        "id": "2Sil-KCLOdl6",
        "outputId": "912b8fc1-e2e3-4b24-8701-b90bc7421004"
      },
      "execution_count": 4,
      "outputs": [
        {
          "output_type": "stream",
          "name": "stderr",
          "text": [
            "/usr/local/lib/python3.12/dist-packages/mem0/client/utils.py:21: DeprecationWarning: output_format='v1.0' is deprecated therefore setting it to 'v1.1' by default. Check out the docs for more information: https://docs.mem0.ai/platform/quickstart#4-1-create-memories\n",
            "  return func(*args, **kwargs)\n"
          ]
        },
        {
          "output_type": "execute_result",
          "data": {
            "text/plain": [
              "{'results': [{'id': '6e9b29f0-c47e-4492-b461-17f1fccba063',\n",
              "   'event': 'ADD',\n",
              "   'memory': 'User Name is John Doe',\n",
              "   'structured_attributes': {'day': 25,\n",
              "    'hour': 3,\n",
              "    'year': 2025,\n",
              "    'month': 8,\n",
              "    'minute': 12,\n",
              "    'quarter': 3,\n",
              "    'is_weekend': False,\n",
              "    'day_of_week': 'monday',\n",
              "    'day_of_year': 237,\n",
              "    'week_of_year': 35}},\n",
              "  {'id': '0b659b9e-f2c2-414d-80da-3b8fd0eda37c',\n",
              "   'event': 'ADD',\n",
              "   'memory': 'User DOB is 03/14/1985',\n",
              "   'structured_attributes': {'day': 25,\n",
              "    'hour': 3,\n",
              "    'year': 2025,\n",
              "    'month': 8,\n",
              "    'minute': 12,\n",
              "    'quarter': 3,\n",
              "    'is_weekend': False,\n",
              "    'day_of_week': 'monday',\n",
              "    'day_of_year': 237,\n",
              "    'week_of_year': 35}},\n",
              "  {'id': '9231931a-5d49-4c10-a568-04fa723f2ef7',\n",
              "   'event': 'ADD',\n",
              "   'memory': 'User Email is john.doe@email.com',\n",
              "   'structured_attributes': {'day': 25,\n",
              "    'hour': 3,\n",
              "    'year': 2025,\n",
              "    'month': 8,\n",
              "    'minute': 12,\n",
              "    'quarter': 3,\n",
              "    'is_weekend': False,\n",
              "    'day_of_week': 'monday',\n",
              "    'day_of_year': 237,\n",
              "    'week_of_year': 35}},\n",
              "  {'id': 'b76f36dc-aea9-4be7-9645-4b4dc52fec59',\n",
              "   'event': 'ADD',\n",
              "   'memory': 'User Has been having recurring chest pain',\n",
              "   'structured_attributes': {'day': 25,\n",
              "    'hour': 3,\n",
              "    'year': 2025,\n",
              "    'month': 8,\n",
              "    'minute': 12,\n",
              "    'quarter': 3,\n",
              "    'is_weekend': False,\n",
              "    'day_of_week': 'monday',\n",
              "    'day_of_year': 237,\n",
              "    'week_of_year': 35}},\n",
              "  {'id': 'da25587a-a4e7-4669-b155-e4b5a21fafe1',\n",
              "   'event': 'ADD',\n",
              "   'memory': 'User Started experiencing symptoms about three days ago',\n",
              "   'structured_attributes': {'day': 25,\n",
              "    'hour': 3,\n",
              "    'year': 2025,\n",
              "    'month': 8,\n",
              "    'minute': 12,\n",
              "    'quarter': 3,\n",
              "    'is_weekend': False,\n",
              "    'day_of_week': 'monday',\n",
              "    'day_of_year': 237,\n",
              "    'week_of_year': 35}},\n",
              "  {'id': '28465be2-22ce-4d16-aea1-1abb5f6893c7',\n",
              "   'event': 'ADD',\n",
              "   'memory': 'User Has no previous heart conditions',\n",
              "   'structured_attributes': {'day': 25,\n",
              "    'hour': 3,\n",
              "    'year': 2025,\n",
              "    'month': 8,\n",
              "    'minute': 12,\n",
              "    'quarter': 3,\n",
              "    'is_weekend': False,\n",
              "    'day_of_week': 'monday',\n",
              "    'day_of_year': 237,\n",
              "    'week_of_year': 35}},\n",
              "  {'id': '1aa04257-5048-4103-bf72-eaf652df63c6',\n",
              "   'event': 'ADD',\n",
              "   'memory': 'User Is scheduled for admission tomorrow for observation and testing',\n",
              "   'structured_attributes': {'day': 25,\n",
              "    'hour': 3,\n",
              "    'year': 2025,\n",
              "    'month': 8,\n",
              "    'minute': 12,\n",
              "    'quarter': 3,\n",
              "    'is_weekend': False,\n",
              "    'day_of_week': 'monday',\n",
              "    'day_of_year': 237,\n",
              "    'week_of_year': 35}}]}"
            ]
          },
          "metadata": {},
          "execution_count": 4
        }
      ]
    },
    {
      "cell_type": "markdown",
      "source": [
        "### Checking the agent"
      ],
      "metadata": {
        "id": "NjtLgpN9gTRK"
      }
    },
    {
      "cell_type": "code",
      "source": [
        "data = \"When is my admission for observation scheduled?\"\n",
        "\n",
        "relevant_memories = memory.search(data, user_id=\"patient_admission_bot\")\n",
        "flatten_relevant_memories = \"\\n\".join([m[\"memory\"] for m in relevant_memories])\n",
        "\n",
        "prompt = f\"\"\"Answer the user question considering the memories. Keep answers clear and concise.\n",
        "Memories:\n",
        "{flatten_relevant_memories}\n",
        "\\n\\n\n",
        "Question: {data}\n",
        "\"\"\"\n",
        "\n",
        "reply = agent.generate_reply(messages=[{\"content\": prompt, \"role\": \"user\"}])\n",
        "print(reply)"
      ],
      "metadata": {
        "colab": {
          "base_uri": "https://localhost:8080/"
        },
        "id": "sFtkPfOaOq5q",
        "outputId": "d1ac57c3-1a3e-4ba3-be60-f5a3f0ad206e"
      },
      "execution_count": 5,
      "outputs": [
        {
          "output_type": "stream",
          "name": "stderr",
          "text": [
            "/usr/local/lib/python3.12/dist-packages/autogen/logger/logger_utils.py:9: DeprecationWarning: datetime.datetime.utcnow() is deprecated and scheduled for removal in a future version. Use timezone-aware objects to represent datetimes in UTC: datetime.datetime.now(datetime.UTC).\n",
            "  return datetime.datetime.utcnow().strftime(\"%Y-%m-%d %H:%M:%S.%f\")\n"
          ]
        },
        {
          "output_type": "stream",
          "name": "stdout",
          "text": [
            "Your admission for observation is scheduled for tomorrow.\n"
          ]
        }
      ]
    },
    {
      "cell_type": "markdown",
      "source": [
        "### Multi-agent Conversation with memory retrieval"
      ],
      "metadata": {
        "id": "K241DeL8gU77"
      }
    },
    {
      "cell_type": "code",
      "source": [
        "manager = ConversableAgent(\n",
        "    \"manager\",\n",
        "    system_message=\"You are a medical support who helps in resolving patient issues.\",\n",
        "    llm_config={\"config_list\": [{\"model\": \"gpt-4o\", \"api_key\": os.environ.get(\"OPENAI_API_KEY\")}]},\n",
        "    human_input_mode=\"NEVER\",\n",
        ")\n",
        "\n",
        "patient_bot = ConversableAgent(\n",
        "    \"patient_bot\",\n",
        "    system_message=\"You are a medical support bot who gathers information on patient problems. Keep answers clear and concise.\",\n",
        "    llm_config={\"config_list\": [{\"model\": \"gpt-4o\", \"api_key\": os.environ.get(\"OPENAI_API_KEY\")}]},\n",
        "    human_input_mode=\"NEVER\",\n",
        ")"
      ],
      "metadata": {
        "id": "x_xwa3KkOw2S"
      },
      "execution_count": 6,
      "outputs": []
    },
    {
      "cell_type": "code",
      "source": [
        "data = \"What is the date of birth of patient named John Doe?\"\n",
        "\n",
        "relevant_memories = memory.search(data, user_id=\"patient_admission_bot\")\n",
        "flatten_relevant_memories = \"\\n\".join([m[\"memory\"] for m in relevant_memories])\n",
        "\n",
        "prompt = f\"\"\"\n",
        "Context:\n",
        "{flatten_relevant_memories}\n",
        "\\n\\n\n",
        "Question: {data}\n",
        "\"\"\"\n",
        "\n",
        "result = manager.send(prompt, patient_bot, request_reply=True)"
      ],
      "metadata": {
        "id": "p-oXqzu_Qwup",
        "colab": {
          "base_uri": "https://localhost:8080/"
        },
        "outputId": "96413fbd-b5d5-4861-8ea6-2e7f5b72e2aa"
      },
      "execution_count": 7,
      "outputs": [
        {
          "output_type": "stream",
          "name": "stdout",
          "text": [
            "manager (to patient_bot):\n",
            "\n",
            "\n",
            "Context:\n",
            "User Name is John Doe\n",
            "User Email is john.doe@email.com\n",
            "User DOB is 03/14/1985\n",
            "User Started experiencing symptoms about three days ago\n",
            "User Is scheduled for admission tomorrow for observation and testing\n",
            "User Has no previous heart conditions\n",
            "User Has been having recurring chest pain\n",
            "\n",
            "\n",
            "\n",
            "Question: What is the date of birth of patient named John Doe?\n",
            "\n",
            "\n",
            "--------------------------------------------------------------------------------\n",
            "patient_bot (to manager):\n",
            "\n",
            "John Doe's date of birth is 03/14/1985.\n",
            "\n",
            "--------------------------------------------------------------------------------\n"
          ]
        }
      ]
    }
  ]
}