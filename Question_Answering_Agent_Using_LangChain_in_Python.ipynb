{
  "nbformat": 4,
  "nbformat_minor": 0,
  "metadata": {
    "colab": {
      "provenance": [],
      "include_colab_link": true
    },
    "kernelspec": {
      "name": "python3",
      "display_name": "Python 3"
    },
    "language_info": {
      "name": "python"
    }
  },
  "cells": [
    {
      "cell_type": "markdown",
      "metadata": {
        "id": "view-in-github",
        "colab_type": "text"
      },
      "source": [
        "<a href=\"https://colab.research.google.com/github/m-adeleke1/Association_of_Data_Scientists/blob/main/Question_Answering_Agent_Using_LangChain_in_Python.ipynb\" target=\"_parent\"><img src=\"https://colab.research.google.com/assets/colab-badge.svg\" alt=\"Open In Colab\"/></a>"
      ]
    },
    {
      "cell_type": "code",
      "source": [
        "!python -m pip install langchain langchain-openai langchain-community -q"
      ],
      "metadata": {
        "id": "8e7yEloypMgn",
        "colab": {
          "base_uri": "https://localhost:8080/"
        },
        "outputId": "96140041-120d-4764-87b1-5810737bfb19"
      },
      "execution_count": 1,
      "outputs": [
        {
          "output_type": "stream",
          "name": "stdout",
          "text": [
            "\u001b[?25l   \u001b[90m━━━━━━━━━━━━━━━━━━━━━━━━━━━━━━━━━━━━━━━━\u001b[0m \u001b[32m0.0/74.5 kB\u001b[0m \u001b[31m?\u001b[0m eta \u001b[36m-:--:--\u001b[0m\r\u001b[2K   \u001b[90m━━━━━━━━━━━━━━━━━━━━━━━━━━━━━━━━━━━━━━━━\u001b[0m \u001b[32m74.5/74.5 kB\u001b[0m \u001b[31m3.7 MB/s\u001b[0m eta \u001b[36m0:00:00\u001b[0m\n",
            "\u001b[?25h\u001b[?25l   \u001b[90m━━━━━━━━━━━━━━━━━━━━━━━━━━━━━━━━━━━━━━━━\u001b[0m \u001b[32m0.0/2.5 MB\u001b[0m \u001b[31m?\u001b[0m eta \u001b[36m-:--:--\u001b[0m\r\u001b[2K   \u001b[91m━━━━━━━━━━━━━━━━━━━━━━━━━━━━━━━━━━━━━━━\u001b[0m\u001b[91m╸\u001b[0m \u001b[32m2.5/2.5 MB\u001b[0m \u001b[31m94.5 MB/s\u001b[0m eta \u001b[36m0:00:01\u001b[0m\r\u001b[2K   \u001b[90m━━━━━━━━━━━━━━━━━━━━━━━━━━━━━━━━━━━━━━━━\u001b[0m \u001b[32m2.5/2.5 MB\u001b[0m \u001b[31m50.9 MB/s\u001b[0m eta \u001b[36m0:00:00\u001b[0m\n",
            "\u001b[?25h\u001b[?25l   \u001b[90m━━━━━━━━━━━━━━━━━━━━━━━━━━━━━━━━━━━━━━━━\u001b[0m \u001b[32m0.0/50.9 kB\u001b[0m \u001b[31m?\u001b[0m eta \u001b[36m-:--:--\u001b[0m\r\u001b[2K   \u001b[90m━━━━━━━━━━━━━━━━━━━━━━━━━━━━━━━━━━━━━━━━\u001b[0m \u001b[32m50.9/50.9 kB\u001b[0m \u001b[31m3.2 MB/s\u001b[0m eta \u001b[36m0:00:00\u001b[0m\n",
            "\u001b[?25h"
          ]
        }
      ]
    },
    {
      "cell_type": "markdown",
      "source": [
        "## Importing Libraries"
      ],
      "metadata": {
        "id": "YngSRVQTaFzy"
      }
    },
    {
      "cell_type": "code",
      "source": [
        "from langchain_openai import OpenAI\n",
        "from langchain import LLMChain\n",
        "from langchain_core.prompts import PromptTemplate\n",
        "from google.colab import userdata\n",
        "import os"
      ],
      "metadata": {
        "id": "OysUau-3RjyH"
      },
      "execution_count": 2,
      "outputs": []
    },
    {
      "cell_type": "markdown",
      "source": [
        "## Loading the OPENAI API Key"
      ],
      "metadata": {
        "id": "Nn3MV0FCaUbe"
      }
    },
    {
      "cell_type": "code",
      "source": [
        "os.environ[\"OPENAI_API_KEY\"] = userdata.get(\"OPENAI_API_KEY\")"
      ],
      "metadata": {
        "id": "2Tn28L75Yl-g"
      },
      "execution_count": 4,
      "outputs": []
    },
    {
      "cell_type": "markdown",
      "source": [
        "## Declaring the OPENAI Model and asking a simple question"
      ],
      "metadata": {
        "id": "2JvEmqe3aYNZ"
      }
    },
    {
      "cell_type": "code",
      "source": [
        "model = OpenAI(temperature=0.1) #temperature is used to control the randomness of the output. A higher value corresponds to higher randomness\n",
        "text = \"What is Thermodynamics?\" #prompt\n",
        "print(model(text))"
      ],
      "metadata": {
        "colab": {
          "base_uri": "https://localhost:8080/"
        },
        "id": "QmCh_0OBT1RF",
        "outputId": "e47c8acc-44d5-4f0c-cf8f-f6c1197357d7"
      },
      "execution_count": 5,
      "outputs": [
        {
          "output_type": "stream",
          "name": "stderr",
          "text": [
            "/tmp/ipython-input-4255068817.py:3: LangChainDeprecationWarning: The method `BaseLLM.__call__` was deprecated in langchain-core 0.1.7 and will be removed in 1.0. Use :meth:`~invoke` instead.\n",
            "  print(model(text))\n"
          ]
        },
        {
          "output_type": "stream",
          "name": "stdout",
          "text": [
            "\n",
            "\n",
            "Thermodynamics is a branch of physics that deals with the study of energy and its transformations. It is concerned with the relationship between heat, work, temperature, and energy, and how these factors affect the behavior of matter. Thermodynamics also explores the principles of energy conservation and entropy, and how they govern the behavior of systems at the macroscopic level. It has applications in various fields, including engineering, chemistry, and biology, and is essential in understanding the behavior of natural and man-made systems.\n"
          ]
        }
      ]
    },
    {
      "cell_type": "markdown",
      "source": [
        "## Creating a Multi-Template for grouping multiple questions in one-single prompt"
      ],
      "metadata": {
        "id": "BRlOV_YBakRL"
      }
    },
    {
      "cell_type": "code",
      "source": [
        "mu_template = \"\"\"Answer the following questions one at a time.\n",
        "Questions:\n",
        "{ques}\n",
        "Answers:\n",
        "\"\"\""
      ],
      "metadata": {
        "id": "5q93srLnUZGF"
      },
      "execution_count": 6,
      "outputs": []
    },
    {
      "cell_type": "markdown",
      "source": [
        "## Passing the template in our prompt and using text-davinci-003 OPENAI model"
      ],
      "metadata": {
        "id": "Cp1EgxrOatmI"
      }
    },
    {
      "cell_type": "code",
      "source": [
        "long_prompt = PromptTemplate(template=mu_template, input_variables=[\"ques\"])\n",
        "davinci = OpenAI()"
      ],
      "metadata": {
        "id": "jeWzPaOsUltR"
      },
      "execution_count": 7,
      "outputs": []
    },
    {
      "cell_type": "markdown",
      "source": [
        "## Building a LLMChain"
      ],
      "metadata": {
        "id": "WPQujEDYa7V1"
      }
    },
    {
      "cell_type": "code",
      "source": [
        "llm_chain = LLMChain(\n",
        "    prompt=long_prompt,\n",
        "    llm=davinci\n",
        ")\n",
        "\n",
        "ques = (\n",
        "    \"Who was Robert J Oppenheimer?\\n\" +\n",
        "    \"What did Robert J Oppenheimer invent?\\n\" +\n",
        "    \"What was the name of area where Rober J Oppenheimer successfully conducted the Atomic Bomb Test?\"\n",
        ")"
      ],
      "metadata": {
        "id": "3W_QSQHiX5NJ",
        "colab": {
          "base_uri": "https://localhost:8080/"
        },
        "outputId": "06081de0-99fc-4183-ef1a-16ff7b589854"
      },
      "execution_count": 8,
      "outputs": [
        {
          "output_type": "stream",
          "name": "stderr",
          "text": [
            "/tmp/ipython-input-435082869.py:1: LangChainDeprecationWarning: The class `LLMChain` was deprecated in LangChain 0.1.17 and will be removed in 1.0. Use :meth:`~RunnableSequence, e.g., `prompt | llm`` instead.\n",
            "  llm_chain = LLMChain(\n"
          ]
        }
      ]
    },
    {
      "cell_type": "markdown",
      "source": [
        "## Running the chain and checking the results"
      ],
      "metadata": {
        "id": "xuL4-GMlbL0Q"
      }
    },
    {
      "cell_type": "code",
      "source": [
        "print(llm_chain.run(ques))"
      ],
      "metadata": {
        "colab": {
          "base_uri": "https://localhost:8080/"
        },
        "id": "CXEOK9-3X64u",
        "outputId": "f93acb60-1c71-466a-da08-d5e3b478a648"
      },
      "execution_count": 9,
      "outputs": [
        {
          "output_type": "stream",
          "name": "stderr",
          "text": [
            "/tmp/ipython-input-87527639.py:1: LangChainDeprecationWarning: The method `Chain.run` was deprecated in langchain 0.1.0 and will be removed in 1.0. Use :meth:`~invoke` instead.\n",
            "  print(llm_chain.run(ques))\n"
          ]
        },
        {
          "output_type": "stream",
          "name": "stdout",
          "text": [
            "1) Robert J Oppenheimer was an American theoretical physicist and professor of physics at the University of California, Berkeley. He is often referred to as the \"father of the atomic bomb\" for his role in the Manhattan Project.\n",
            "2) Robert J Oppenheimer did not invent the atomic bomb, but he played a crucial role in its development and successful testing.\n",
            "3) The name of the area where Robert J Oppenheimer successfully conducted the Atomic Bomb Test was the Trinity Test Site, located in Alamogordo, New Mexico.\n"
          ]
        }
      ]
    }
  ]
}