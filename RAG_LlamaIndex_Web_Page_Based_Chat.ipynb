{
  "cells": [
    {
      "cell_type": "markdown",
      "metadata": {
        "id": "view-in-github",
        "colab_type": "text"
      },
      "source": [
        "<a href=\"https://colab.research.google.com/github/m-adeleke1/Association_of_Data_Scientists/blob/main/RAG_LlamaIndex_Web_Page_Based_Chat.ipynb\" target=\"_parent\"><img src=\"https://colab.research.google.com/assets/colab-badge.svg\" alt=\"Open In Colab\"/></a>"
      ]
    },
    {
      "cell_type": "markdown",
      "metadata": {
        "id": "BZaXyKJJL0Uv"
      },
      "source": [
        "**Installing library**"
      ]
    },
    {
      "cell_type": "code",
      "execution_count": 1,
      "metadata": {
        "colab": {
          "base_uri": "https://localhost:8080/"
        },
        "id": "hb8jTmdfLyQ8",
        "outputId": "b7cb1c83-b4ae-434d-cee6-cb64991111b7"
      },
      "outputs": [
        {
          "output_type": "stream",
          "name": "stdout",
          "text": [
            "\u001b[?25l     \u001b[90m━━━━━━━━━━━━━━━━━━━━━━━━━━━━━━━━━━━━━━━━\u001b[0m \u001b[32m0.0/56.5 kB\u001b[0m \u001b[31m?\u001b[0m eta \u001b[36m-:--:--\u001b[0m\r\u001b[2K     \u001b[90m━━━━━━━━━━━━━━━━━━━━━━━━━━━━━━━━━━━━━━━━\u001b[0m \u001b[32m56.5/56.5 kB\u001b[0m \u001b[31m4.5 MB/s\u001b[0m eta \u001b[36m0:00:00\u001b[0m\n",
            "\u001b[?25h  Preparing metadata (setup.py) ... \u001b[?25l\u001b[?25hdone\n",
            "  Preparing metadata (setup.py) ... \u001b[?25l\u001b[?25hdone\n",
            "  Preparing metadata (setup.py) ... \u001b[?25l\u001b[?25hdone\n",
            "\u001b[2K     \u001b[90m━━━━━━━━━━━━━━━━━━━━━━━━━━━━━━━━━━━━━━━━\u001b[0m \u001b[32m7.4/7.4 MB\u001b[0m \u001b[31m105.2 MB/s\u001b[0m eta \u001b[36m0:00:00\u001b[0m\n",
            "\u001b[?25h  Preparing metadata (setup.py) ... \u001b[?25l\u001b[?25hdone\n",
            "  Preparing metadata (setup.py) ... \u001b[?25l\u001b[?25hdone\n",
            "  Preparing metadata (setup.py) ... \u001b[?25l\u001b[?25hdone\n",
            "\u001b[2K   \u001b[90m━━━━━━━━━━━━━━━━━━━━━━━━━━━━━━━━━━━━━━━━\u001b[0m \u001b[32m102.0/102.0 kB\u001b[0m \u001b[31m7.8 MB/s\u001b[0m eta \u001b[36m0:00:00\u001b[0m\n",
            "\u001b[2K   \u001b[90m━━━━━━━━━━━━━━━━━━━━━━━━━━━━━━━━━━━━━━━━\u001b[0m \u001b[32m7.6/7.6 MB\u001b[0m \u001b[31m89.0 MB/s\u001b[0m eta \u001b[36m0:00:00\u001b[0m\n",
            "\u001b[2K   \u001b[90m━━━━━━━━━━━━━━━━━━━━━━━━━━━━━━━━━━━━━━━━\u001b[0m \u001b[32m303.3/303.3 kB\u001b[0m \u001b[31m21.3 MB/s\u001b[0m eta \u001b[36m0:00:00\u001b[0m\n",
            "\u001b[2K   \u001b[90m━━━━━━━━━━━━━━━━━━━━━━━━━━━━━━━━━━━━━━━━\u001b[0m \u001b[32m51.8/51.8 kB\u001b[0m \u001b[31m4.0 MB/s\u001b[0m eta \u001b[36m0:00:00\u001b[0m\n",
            "\u001b[2K   \u001b[90m━━━━━━━━━━━━━━━━━━━━━━━━━━━━━━━━━━━━━━━━\u001b[0m \u001b[32m211.1/211.1 kB\u001b[0m \u001b[31m14.6 MB/s\u001b[0m eta \u001b[36m0:00:00\u001b[0m\n",
            "\u001b[2K   \u001b[90m━━━━━━━━━━━━━━━━━━━━━━━━━━━━━━━━━━━━━━━━\u001b[0m \u001b[32m45.9/45.9 MB\u001b[0m \u001b[31m21.1 MB/s\u001b[0m eta \u001b[36m0:00:00\u001b[0m\n",
            "\u001b[2K   \u001b[90m━━━━━━━━━━━━━━━━━━━━━━━━━━━━━━━━━━━━━━━━\u001b[0m \u001b[32m9.6/9.6 MB\u001b[0m \u001b[31m112.4 MB/s\u001b[0m eta \u001b[36m0:00:00\u001b[0m\n",
            "\u001b[2K   \u001b[90m━━━━━━━━━━━━━━━━━━━━━━━━━━━━━━━━━━━━━━━━\u001b[0m \u001b[32m81.3/81.3 kB\u001b[0m \u001b[31m6.3 MB/s\u001b[0m eta \u001b[36m0:00:00\u001b[0m\n",
            "\u001b[2K   \u001b[90m━━━━━━━━━━━━━━━━━━━━━━━━━━━━━━━━━━━━━━━━\u001b[0m \u001b[32m42.5/42.5 kB\u001b[0m \u001b[31m3.2 MB/s\u001b[0m eta \u001b[36m0:00:00\u001b[0m\n",
            "\u001b[2K   \u001b[90m━━━━━━━━━━━━━━━━━━━━━━━━━━━━━━━━━━━━━━━━\u001b[0m \u001b[32m63.9/63.9 kB\u001b[0m \u001b[31m5.2 MB/s\u001b[0m eta \u001b[36m0:00:00\u001b[0m\n",
            "\u001b[2K   \u001b[90m━━━━━━━━━━━━━━━━━━━━━━━━━━━━━━━━━━━━━━━━\u001b[0m \u001b[32m310.5/310.5 kB\u001b[0m \u001b[31m24.9 MB/s\u001b[0m eta \u001b[36m0:00:00\u001b[0m\n",
            "\u001b[2K   \u001b[90m━━━━━━━━━━━━━━━━━━━━━━━━━━━━━━━━━━━━━━━━\u001b[0m \u001b[32m1.2/1.2 MB\u001b[0m \u001b[31m47.9 MB/s\u001b[0m eta \u001b[36m0:00:00\u001b[0m\n",
            "\u001b[2K   \u001b[90m━━━━━━━━━━━━━━━━━━━━━━━━━━━━━━━━━━━━━━━━\u001b[0m \u001b[32m107.4/107.4 kB\u001b[0m \u001b[31m9.0 MB/s\u001b[0m eta \u001b[36m0:00:00\u001b[0m\n",
            "\u001b[2K   \u001b[90m━━━━━━━━━━━━━━━━━━━━━━━━━━━━━━━━━━━━━━━━\u001b[0m \u001b[32m499.2/499.2 kB\u001b[0m \u001b[31m33.5 MB/s\u001b[0m eta \u001b[36m0:00:00\u001b[0m\n",
            "\u001b[2K   \u001b[90m━━━━━━━━━━━━━━━━━━━━━━━━━━━━━━━━━━━━━━━━\u001b[0m \u001b[32m50.9/50.9 kB\u001b[0m \u001b[31m3.5 MB/s\u001b[0m eta \u001b[36m0:00:00\u001b[0m\n",
            "\u001b[2K   \u001b[90m━━━━━━━━━━━━━━━━━━━━━━━━━━━━━━━━━━━━━━━━\u001b[0m \u001b[32m138.9/138.9 kB\u001b[0m \u001b[31m10.5 MB/s\u001b[0m eta \u001b[36m0:00:00\u001b[0m\n",
            "\u001b[?25h  Building wheel for html2text (setup.py) ... \u001b[?25l\u001b[?25hdone\n",
            "  Building wheel for tinysegmenter (setup.py) ... \u001b[?25l\u001b[?25hdone\n",
            "  Building wheel for spider-client (setup.py) ... \u001b[?25l\u001b[?25hdone\n",
            "  Building wheel for feedfinder2 (setup.py) ... \u001b[?25l\u001b[?25hdone\n",
            "  Building wheel for jieba3k (setup.py) ... \u001b[?25l\u001b[?25hdone\n",
            "  Building wheel for sgmllib3k (setup.py) ... \u001b[?25l\u001b[?25hdone\n",
            "\u001b[31mERROR: pip's dependency resolver does not currently take into account all the packages that are installed. This behaviour is the source of the following dependency conflicts.\n",
            "ipython 7.34.0 requires jedi>=0.16, which is not installed.\u001b[0m\u001b[31m\n",
            "\u001b[0m"
          ]
        }
      ],
      "source": [
        "!pip install llama-index llama-index-readers-web html2text -q"
      ]
    },
    {
      "cell_type": "code",
      "source": [
        "!pip install jedi>=0.16"
      ],
      "metadata": {
        "id": "c-yjnp9luLG1"
      },
      "execution_count": 2,
      "outputs": []
    },
    {
      "cell_type": "markdown",
      "metadata": {
        "id": "3ovbSSynMMQe"
      },
      "source": [
        "**Importing libraries**"
      ]
    },
    {
      "cell_type": "code",
      "execution_count": 3,
      "metadata": {
        "id": "v5hJUP1TL9wJ"
      },
      "outputs": [],
      "source": [
        "import os\n",
        "from llama_index.core import VectorStoreIndex #VectorStoreIndex is used to create a searchable index from documents\n",
        "from llama_index.readers.web import SimpleWebPageReader #SimpleWebPageReader is used to read web pages.\n",
        "from google.colab import userdata"
      ]
    },
    {
      "cell_type": "markdown",
      "metadata": {
        "id": "4gNlS8K5MNEz"
      },
      "source": [
        "**Passing the OPENAI API key**\n"
      ]
    },
    {
      "cell_type": "code",
      "execution_count": 4,
      "metadata": {
        "id": "sT-cnas0MNh9"
      },
      "outputs": [],
      "source": [
        "# OpenAI API Key\n",
        "os.environ[\"OPENAI_API_KEY\"] = userdata.get(\"OPENAI_API_KEY\")"
      ]
    },
    {
      "cell_type": "markdown",
      "metadata": {
        "id": "cwI2KBbQMPkL"
      },
      "source": [
        "**Loading the URL data into documents**"
      ]
    },
    {
      "cell_type": "code",
      "execution_count": 5,
      "metadata": {
        "id": "OCoozerEMP39"
      },
      "outputs": [],
      "source": [
        "# Passing a URL which we want to load to our vector store:\n",
        "url = \"https://mlds.analyticsindiamag.com/\""
      ]
    },
    {
      "cell_type": "code",
      "execution_count": 6,
      "metadata": {
        "id": "VYIAoxOFMQqO",
        "colab": {
          "base_uri": "https://localhost:8080/"
        },
        "outputId": "394347ba-b0d1-4cfc-b27e-90fa23007b76"
      },
      "outputs": [
        {
          "output_type": "execute_result",
          "data": {
            "text/plain": [
              "[Document(id_='389ea2fe-c8ba-4bc4-9328-3f78fab06b58', embedding=None, metadata={'url': 'https://mlds.analyticsindiamag.com/'}, excluded_embed_metadata_keys=[], excluded_llm_metadata_keys=[], relationships={}, metadata_template='{key}: {value}', metadata_separator='\\n', text_resource=MediaResource(embeddings=None, data=None, text='[](javascript:;)\\n\\n[](javascript:;)\\n\\n__\\n\\n  * [Speakers](https://mlds.analyticsindiamag.com/speakers/speakers/)\\n  * [Agenda](https://mlds.analyticsindiamag.com/schedules/agenda/)\\n  * [Code Craze](https://mlds.analyticsindiamag.com/code-craze/)\\n  * [Call for Papers](https://mlds.analyticsindiamag.com/paper-presentation/)\\n  * [Awards](https://mlds.analyticsindiamag.com/40-under-40-data-scientists-awards/)\\n  * [Partners](https://mlds.analyticsindiamag.com/partners/)\\n  * [Contact](https://mlds.analyticsindiamag.com/contact/)\\n\\n  * ## Where\\n\\n  * ## When\\n\\n  * [__](https://www.facebook.com/AnalyticsIndiaMagazine/)\\n  * [__](https://twitter.com/@analyticsindiam)\\n  * [__](https://www.youtube.com/channel/UCAlwrsgeJavG1vw9qSFOUmA \"Youtube\")\\n  * [__](https://www.linkedin.com/groups/6721886 \"Linkedin\")\\n  * [__](https://instagram.com/https://www.instagram.com/analyticsindiamagazine/ \"Instagram\")\\n\\n  * __ info@aimmediahouse.com \\n  * __ +91-94965 21885, +91-96325 33477\\n\\n[ ![](https://mlds.analyticsindiamag.com/wp-\\ncontent/uploads/2024/11/MLDS25-LOGO.png) ](https://mlds.analyticsindiamag.com)\\n\\n  * [Speakers](https://mlds.analyticsindiamag.com/speakers/speakers/)\\n  * [Agenda](https://mlds.analyticsindiamag.com/schedules/agenda/)\\n  * [Code Craze](https://mlds.analyticsindiamag.com/code-craze/)\\n  * [Call for Papers](https://mlds.analyticsindiamag.com/paper-presentation/)\\n  * [Awards](https://mlds.analyticsindiamag.com/40-under-40-data-scientists-awards/)\\n  * [Partners](https://mlds.analyticsindiamag.com/partners/)\\n  * [Contact](https://mlds.analyticsindiamag.com/contact/)\\n\\n____\\n\\n  * [Speakers](https://mlds.analyticsindiamag.com/speakers/speakers/)\\n  * [Agenda](https://mlds.analyticsindiamag.com/schedules/agenda/)\\n  * [Code Craze](https://mlds.analyticsindiamag.com/code-craze/)\\n  * [Call for Papers](https://mlds.analyticsindiamag.com/paper-presentation/)\\n  * [Awards](https://mlds.analyticsindiamag.com/40-under-40-data-scientists-awards/)\\n  * [Partners](https://mlds.analyticsindiamag.com/partners/)\\n  * [Contact](https://mlds.analyticsindiamag.com/contact/)\\n\\n[ __ Book Passes ](https://mlds.analyticsindiamag.com/book-passes/)\\n\\n  * __ info@aimmediahouse.com \\n  * __ +91-94965 21885, +91-96325 33477\\n\\n[ ![](https://mlds.analyticsindiamag.com/wp-\\ncontent/uploads/2024/11/MLDS25-LOGO.png) ](https://mlds.analyticsindiamag.com)\\n\\n  * [Speakers](https://mlds.analyticsindiamag.com/speakers/speakers/)\\n  * [Agenda](https://mlds.analyticsindiamag.com/schedules/agenda/)\\n  * [Code Craze](https://mlds.analyticsindiamag.com/code-craze/)\\n  * [Call for Papers](https://mlds.analyticsindiamag.com/paper-presentation/)\\n  * [Awards](https://mlds.analyticsindiamag.com/40-under-40-data-scientists-awards/)\\n  * [Partners](https://mlds.analyticsindiamag.com/partners/)\\n  * [Contact](https://mlds.analyticsindiamag.com/contact/)\\n\\n____\\n\\n  * [Speakers](https://mlds.analyticsindiamag.com/speakers/speakers/)\\n  * [Agenda](https://mlds.analyticsindiamag.com/schedules/agenda/)\\n  * [Code Craze](https://mlds.analyticsindiamag.com/code-craze/)\\n  * [Call for Papers](https://mlds.analyticsindiamag.com/paper-presentation/)\\n  * [Awards](https://mlds.analyticsindiamag.com/40-under-40-data-scientists-awards/)\\n  * [Partners](https://mlds.analyticsindiamag.com/partners/)\\n  * [Contact](https://mlds.analyticsindiamag.com/contact/)\\n\\n[ __ Book Passes ](https://mlds.analyticsindiamag.com/book-passes/)\\n\\nFebruary 5 - 7, 2025 | Nimhans Convention Center, Bangalore\\n\\n# India\\'s Biggest Developers Summit\\n\\nEdition\\n\\n0 th\\n\\nAttendees\\n\\n0 +\\n\\nSpeakers\\n\\n0 +\\n\\nOrganizations\\n\\n0 +\\n\\n[ Reserve a Spot ](https://mlds.analyticsindiamag.com/book-passes/)\\n\\n[ Partner with us  ](https://mlds.analyticsindiamag.com/partners/)\\n\\n### Our Partners\\n\\n### To know more details, write to info@aimmediahouse.com\\n\\n[ __ Partner with us ](https://mlds.analyticsindiamag.com/partners/)\\n\\n[ ![](https://mlds.analyticsindiamag.com/wp-content/uploads/2025/01/Genpact-\\nLogo-Black.png) ](https://fractal.ai/)\\n\\n![](https://mlds.analyticsindiamag.com/wp-\\ncontent/uploads/2024/12/MathCo_Lockup_MCRefinedPurple_RGB-1-1024x225.png)\\n\\n![](https://mlds.analyticsindiamag.com/wp-\\ncontent/uploads/2023/01/lockup_GoogleCloud_OneColor_rgb_2900x512px-1024x181.png)\\n\\n![](https://mlds.analyticsindiamag.com/wp-\\ncontent/uploads/2025/01/EY_Logo_Beam_STFWC_Horizontal_Small_RGB_OffBlack_Yellow_EN-1024x412.jpg)\\n\\n![](https://encrypted-\\ntbn0.gstatic.com/images?q=tbn:ANd9GcQYqGCPRX0FWWkNa_cvf0HptqqGL8XfLpgwbg&s)\\n\\n![](https://mlds.analyticsindiamag.com/wp-\\ncontent/uploads/2025/01/WEXLogo_Color-01-1024x576.png)\\n\\n![](https://mlds.analyticsindiamag.com/wp-content/uploads/2025/01/Logo-\\nVertical-Full-Colour-Artwork-File-Png-1024x421.png)\\n\\n![](https://mlds.analyticsindiamag.com/wp-content/uploads/2025/01/logo-\\nclassicblue-3000px-1024x415.png)\\n\\n![](https://mlds.analyticsindiamag.com/wp-content/uploads/2025/01/Tiger-\\nAnalytics-Logo-Files_Main-logo-1024x424.png)\\n\\n### MLDS is the ultimate developers\\' conference, bringing together India\\'s top\\ninnovators and practitioners from across all domains, including AI, Generative\\nAI, and beyond. This event will highlight not only the revolutionary impact of\\ngenerative AI but also showcase the latest advancements across the entire\\nsoftware development spectrum, from cloud computing and web development to\\ndata engineering and DevOps.\\n\\n### MLDS 2025\\n\\n### Attendees will explore emerging trends, cutting-edge tools, and\\ngroundbreaking developer products, setting the stage for the next wave of\\ninnovation. Whether you\\'re building machine learning models, scaling\\nenterprise applications, or pioneering new technologies, MLDS offers practical\\ninsights and hands-on learning experiences.\\n\\nJoin us for deep discussions, hands-on sessions, and networking opportunities\\nthat span across every corner of the developer ecosystem, from AI-powered\\napplications to next-gen developer tools. Whether you\\'re working with AI,\\nsoftware engineering, or something entirely new, this conference is your\\ngateway to the future of development.\\n\\n[ Reserve a Spot ](https://mlds.analyticsindiamag.com/book-passes/)\\n\\n### When & Where\\n\\nWednesday to Friday  \\nFebruary 5 - 7, 2025\\n\\nNIMHANS Convention Center, Bengaluru, India\\n\\n[ Reserve a Spot ](https://mlds.analyticsindiamag.com/book-passes/)\\n\\n![](https://mlds.analyticsindiamag.com/wp-\\ncontent/uploads/2023/03/8B8A8926-scaled.jpg)\\n\\n### What to expect\\n\\n3 Tracks over 3 days -\\n\\n  * Keynotes/ Tech talks (Hall 1)\\n  * Tech Talks/ workshops (Hall 2)\\n  * Paper Presentation (Hall 3)\\n\\nBesides - Mentoring sessions, Hackathon, Awards, Exhibition, Live Coding,\\nCompetitions & a lot more\\n\\n![](https://mlds.analyticsindiamag.com/wp-\\ncontent/uploads/2023/03/IMG_2243-scaled.jpg)\\n\\n### Grab your ticket for a unique experience of inspiration, meeting and\\nnetworking with Top Developers in India\\n\\nBook your tickets at the earliest. We have a hard stop at 1300 passes.\\n\\nNote: Ticket Pricing to change at any time.\\n\\n  * ### 1 Day Pass\\n\\n  * Access to all in-person tracks & workshops \\n  * Access the recorded sessions later \\n  * Access to in-person networking with attendees & speakers \\n  * Conference Lunch for 1 Day \\n  * No Group Discount Available\\n  * **₹** _7000_ __\\n  * Book Now\\n\\nRecommended\\n\\n  * ### Full Access Passes\\n\\nAll Access 3 Day Pass\\n\\n  * Access to all in-person tracks & workshops \\n  * Access the recorded sessions later \\n  * Access to in-person networking with attendees & speakers \\n  * Conference Lunch for all 3 days \\n  * No Group Discount Available\\n  * **₹** _15000_ __\\n  * Book Now\\n\\n  \\n\\n## Our Speakers\\n\\n[ __ Check all speakers\\n](https://mlds.analyticsindiamag.com/speakers/speakers/)\\n\\n[![Chirag Jain](https://mlds.analyticsindiamag.com/wp-\\ncontent/uploads/2021/01/1-500x500.jpg)](https://mlds.analyticsindiamag.com/speaker/chirag-\\njain/)\\n\\n#### Chirag Jain\\n\\nVice President, AI Practice at Genpact\\n\\n[![Abhishek Ashok](https://mlds.analyticsindiamag.com/wp-\\ncontent/uploads/2025/02/Speakers-500x500.jpg)](https://mlds.analyticsindiamag.com/speaker/abhishek-\\nashok/)\\n\\n#### Abhishek Ashok\\n\\nChief Technology Officer at SmartQ\\n\\n[![Sakthivel B](https://mlds.analyticsindiamag.com/wp-\\ncontent/uploads/2025/02/Speakers-1-500x500.jpg)](https://mlds.analyticsindiamag.com/speaker/sakthivel-b/)\\n\\n#### Sakthivel B\\n\\nDirector, Data Science at Tiger Analytics\\n\\n[![Shakuntala Gupta](https://mlds.analyticsindiamag.com/wp-\\ncontent/uploads/2025/02/Speakers-2-500x500.jpg)](https://mlds.analyticsindiamag.com/speaker/shakuntala-\\ngupta/)\\n\\n#### Shakuntala Gupta\\n\\nTechnology Consulting – AI & Data, EY Global Delivery Services India\\n\\n  \\n\\n[![Sourav Banerjee](https://mlds.analyticsindiamag.com/wp-\\ncontent/uploads/2024/12/2-2-500x500.jpg)](https://mlds.analyticsindiamag.com/speaker/sourav-\\nbanerjee-2/)\\n\\n#### Sourav Banerjee\\n\\nHead of R&D and Platform at MathCo\\n\\n[![Paras Chopra](https://mlds.analyticsindiamag.com/wp-\\ncontent/uploads/2025/01/Speakers-7-500x500.jpg)](https://mlds.analyticsindiamag.com/speaker/paras-\\nchopra/)\\n\\n#### Paras Chopra\\n\\nTuring\\'s Dream\\n\\n[![Rahul Bhattacharya](https://mlds.analyticsindiamag.com/wp-\\ncontent/uploads/2024/01/5-2-500x500.jpg)](https://mlds.analyticsindiamag.com/speaker/rahul-\\nbhattacharya/)\\n\\n#### Rahul Bhattacharya\\n\\nGDS Consulting AI Leader at EY\\n\\n[![Lavi Nigam](https://mlds.analyticsindiamag.com/wp-\\ncontent/uploads/2023/01/5-1-500x500.jpg)](https://mlds.analyticsindiamag.com/speaker/lavi-\\nnigam/)\\n\\n#### Lavi Nigam\\n\\nDeveloper Relations Engineer at Google Cloud\\n\\n  \\n\\n  \\n\\n[ Agenda for MLDS 2025 ](https://mlds.analyticsindiamag.com/schedules/agenda/)\\n\\ngenerative ai\\n\\nEmerging Technologies\\n\\nAgentic AI\\n\\nLarge Language Models (LLMs)\\n\\nMulti-Agent Systems\\n\\n[ Agenda for MLDS 2025 ](https://mlds.analyticsindiamag.com/schedules/agenda/)\\n\\nGenerative Adversarial Networks (GANs)\\n\\nTransformer Architecture\\n\\nContextual AI\\n\\nRAG\\n\\nOpen-Source Model Integration\\n\\n[ Agenda for MLDS 2025 ](https://mlds.analyticsindiamag.com/schedules/agenda/)\\n\\nReal-Time Streaming\\n\\nData Pipelines\\n\\nText-to-SQL Query Transformation\\n\\nFine-Tuning\\n\\nDeep Learning\\n\\n[ Agenda for MLDS 2025 ](https://mlds.analyticsindiamag.com/schedules/agenda/)\\n\\nIntelligent Training Data Pipelines\\n\\nData Strategies\\n\\nAIOps\\n\\n### India\\'s Biggest Developers Summit\\n\\n[ Activities at MLDS 2025 ](https://mlds.analyticsindiamag.com/code-craze/)\\n\\n[ Bot Battle Royale ](https://mlds.analyticsindiamag.com/code-craze/)\\n\\n[ Pixel Pioneers Showdown ](https://mlds.analyticsindiamag.com/code-craze/)\\n\\n[ Man vs. Machine Coding ](https://mlds.analyticsindiamag.com/code-craze/)\\n\\n[ Optimization Olympics ](https://mlds.analyticsindiamag.com/code-craze/)\\n\\n[ Hack & Slash Arcade ](https://mlds.analyticsindiamag.com/code-craze/)\\n\\n[ Activities at MLDS 2025 ](https://mlds.analyticsindiamag.com/code-craze/)\\n\\n[ Mystery Matrix Hackathon ](https://mlds.analyticsindiamag.com/code-craze/)\\n\\n[ Ideathon Quest: GenAI Edition ](https://mlds.analyticsindiamag.com/code-\\ncraze/)\\n\\n[ Hackathon: LLM Showstopper ](https://mlds.analyticsindiamag.com/code-craze/)\\n\\n[ Guru Grotto with Sachin  ](https://mlds.analyticsindiamag.com/code-craze/)\\n\\n[ DataDive Workshops ](https://mlds.analyticsindiamag.com/code-craze/)\\n\\n[ Activities at MLDS 2025 ](https://mlds.analyticsindiamag.com/code-craze/)\\n\\n[ Treasure Trove Trail  ](https://mlds.analyticsindiamag.com/code-craze/)\\n\\n[ AI Karaoke Jam Session  ](https://mlds.analyticsindiamag.com/code-craze/)\\n\\n[ Avatar Forge Workshop  ](https://mlds.analyticsindiamag.com/code-craze/)\\n\\n[ Mentoring Sessions ](https://mlds.analyticsindiamag.com/code-craze/)\\n\\n[ Birds of Feather Session ](https://mlds.analyticsindiamag.com/code-craze/)\\n\\n[ Activities at MLDS 2025 ](https://mlds.analyticsindiamag.com/code-craze/)\\n\\n[ In-promptu Code Quizzes ](https://mlds.analyticsindiamag.com/code-craze/)\\n\\n### call for papers\\n\\nMLDS will include additional programs for technical paper presentations.\\n\\n**The submissions for 2025 are CLOSED**\\n\\n[ More Details ](https://mlds.analyticsindiamag.com/paper-presentation/)\\n\\n[ ![](https://mlds.analyticsindiamag.com/wp-\\ncontent/uploads/2024/03/0V6A5572-2-768x512.jpg)\\n](https://mlds.analyticsindiamag.com/40-under-40-data-scientists-awards/)\\n\\n[ ![](https://mlds.analyticsindiamag.com/wp-\\ncontent/uploads/2024/03/8B8A1595-768x512.jpg)\\n](https://mlds.analyticsindiamag.com/40-under-40-data-scientists-awards/)\\n\\n[ ![](https://mlds.analyticsindiamag.com/wp-\\ncontent/uploads/2023/03/IMG_2119-scaled.jpg)\\n](https://mlds.analyticsindiamag.com/40-under-40-data-scientists-awards/)\\n\\n[ ![](https://mlds.analyticsindiamag.com/wp-\\ncontent/uploads/2023/03/8B8A0174-scaled.jpg)\\n](https://mlds.analyticsindiamag.com/40-under-40-data-scientists-awards/)\\n\\nIt\\'s been a bit late to post this but I have to say what an event it really\\nwas (Machine Learning Developers Summit\\'23), after COVID the first time this\\nevent happened without virtual meeting and the interaction was also amazing by\\nData Scientists & Machine learning engineers/ enthusiasts, thanks to AIM\\n\\n![](https://media.licdn.com/dms/image/D5603AQEzk2ybMQZ5dA/profile-\\ndisplayphoto-\\nshrink_800_800/0/1695885276067?e=1704931200&v=beta&t=l21UENLVt_uvh6h1F8GLX2Rj7Fni5-_phknBY5GRiJ0)\\n\\n### Het Patel\\n\\nIBM\\n\\nAttended the brilliant and insightful #MLDS2023. The sessions, talks,\\npresentations and workshops were engaging and knowledgeable, a very enriching\\nexperience.\\n\\n![](https://media.licdn.com/dms/image/C4D03AQGOmC0A8rVKvg/profile-\\ndisplayphoto-\\nshrink_800_800/0/1653764644781?e=1704931200&v=beta&t=SdFL8EcR_ts-0kxYxe2Y1Mk88-L8r6t2pGl02O_w-28)\\n\\n### Arijit Gayen\\n\\niMerit\\n\\nAttending the Machine Learning Summit 2023 in Bangalore was an incredible\\nopportunity for me to deepen my understanding of the latest advancements and\\ntrends in the field. The keynote speakers were inspiring and provided valuable\\ninsights, and I had the chance to network with many other professionals and\\nexperts in the industry. I am excited to apply what I have learned to my work\\nand continue to stay ahead of the curve in the field of machine learning.\\n\\n![](https://media.licdn.com/dms/image/D5603AQEqwKTph5r11Q/profile-\\ndisplayphoto-\\nshrink_800_800/0/1671079557193?e=1704931200&v=beta&t=oL6hjN_C1JKXqpL_ijCpxv7mI0glidH0XjJtR8Wbqu4)\\n\\n### KIRTHIK A\\n\\nKGiSL\\n\\nMichelin is glad to be a part of the Machine Learning Developers Summit (MLDS)\\n2023 which concluded last week in Bangalore, India. The summit comprised of\\nnumerous keynote sessions by industry experts.\\n\\n![](https://media.licdn.com/dms/image/D4E0BAQGdZ9pR73tYaQ/company-\\nlogo_200_200/0/1664542295781/michelin_it_digital_logo?e=1707350400&v=beta&t=tbNpKyXT7DTszwo4NGHGPc1vg_ZWvz7hOmjic_bzaKQ)\\n\\n### Michelin\\n\\n### 40 under 40 data scientists awards\\n\\n40Under40 is an attempt towards recognizing the leading data scientists in\\nIndia who have successfully transformed data into meaningful insights.\\n\\n**2025 nominations are CLOSED.**\\n\\n[ More Details ](https://mlds.analyticsindiamag.com/40-under-40-data-\\nscientists-awards/)\\n\\n[ ![](https://mlds.analyticsindiamag.com/wp-\\ncontent/uploads/2023/02/ISK06376-scaled.jpg)\\n](https://mlds.analyticsindiamag.com/40-under-40-data-scientists-awards/)\\n\\n[ ![](https://mlds.analyticsindiamag.com/wp-\\ncontent/uploads/2023/03/DSC04431-scaled.jpg)\\n](https://mlds.analyticsindiamag.com/40-under-40-data-scientists-awards/)\\n\\n[ ![](https://mlds.analyticsindiamag.com/wp-\\ncontent/uploads/2023/03/DSC04419-scaled.jpg)\\n](https://mlds.analyticsindiamag.com/40-under-40-data-scientists-awards/)\\n\\n[ ![](https://mlds.analyticsindiamag.com/wp-\\ncontent/uploads/2023/02/AN1A9030-scaled.jpg)\\n](https://mlds.analyticsindiamag.com/40-under-40-data-scientists-awards/)\\n\\n![](https://mlds.analyticsindiamag.com/wp-\\ncontent/uploads/2024/03/0V6A5437-2-768x512.jpg)\\n\\n“Generative AI is the most powerful tool for creativity that has ever been\\ncreated. It has the potential to unleash a new era of human innovation.”\\n\\n~ **Elon Musk**\\n\\n![](https://mlds.analyticsindiamag.com/wp-\\ncontent/uploads/2024/03/0V6A5648-2-768x512.jpg)\\n\\n![](https://mlds.analyticsindiamag.com/wp-\\ncontent/uploads/2024/03/8B8A1858-768x512.jpg)\\n\\n![](https://mlds.analyticsindiamag.com/wp-\\ncontent/uploads/2024/03/0V6A5573-2-768x512.jpg)\\n\\n![](https://mlds.analyticsindiamag.com/wp-\\ncontent/uploads/2024/03/8B8A1887-768x512.jpg)\\n\\n![](https://mlds.analyticsindiamag.com/wp-\\ncontent/uploads/2024/03/0V6A5869-768x512.jpg)\\n\\n![](https://mlds.analyticsindiamag.com/wp-\\ncontent/uploads/2024/03/8B8A1849-768x512.jpg)\\n\\n[ ![](https://mlds.analyticsindiamag.com/wp-content/uploads/2022/08/aim-new-\\nlogo-1-12-1024x445.png) ](https://analyticsindiamag.com/)\\n\\n[ Facebook __](https://www.facebook.com/AnalyticsIndiaMagazine/) [ Twitter\\n__](https://twitter.com/@analyticsindiam) [ Youtube\\n__](https://www.youtube.com/channel/UCAlwrsgeJavG1vw9qSFOUmA) [ Linkedin\\n__](https://www.linkedin.com/company/analytics-india-magazine) [ Instagram\\n__](https://www.instagram.com/analyticsindiamagazine/)\\n\\n## Past Editions\\n\\n  * [ Speakers 2025 ](https://mlds.analyticsindiamag.com/speakers/speakers/)\\n  * [ Speakers 2024 ](https://mlds.analyticsindiamag.com/speakers/speakers/speakers-2024/)\\n  * [ Speakers 2023 ](https://mlds.analyticsindiamag.com/speakers/2023-2/)\\n  * [ Speakers 2022 ](https://mlds.analyticsindiamag.com/speakers/)\\n  * [ Speakers 2021 ](https://mlds.analyticsindiamag.com/speakers/speakers-2021/)\\n  * [ Speakers 2020 ](https://mlds.analyticsindiamag.com/speakers/speakers-2020/)\\n  * [ Speakers 2019 ](https://mlds.analyticsindiamag.com/speakers/speakers-2019/)\\n\\n## OUR CONFERENCES\\n\\n  * [ Cypher ](https://cypher.analyticsindiamag.com/)\\n  * [ MachineCon GCC Summit ](https://machinecon.analyticsindiamag.com/)\\n  * [ Rising ](https://rising.analyticsindiamag.com/)\\n  * [ Data Engineering Summit ](https://des.analyticsindiamag.com/)\\n  * [ Happy Llama ](https://happyllama.analyticsindiamag.com/)\\n\\n## Collaborate\\n\\n  * [ Branded Content ](https://analyticsindiamag.com/branded-content/)\\n  * [ Bespoke Events ](https://analyticsindiamag.com/our-events/aim-custom-events/)\\n  * [ Hackathons ](https://business.machinehack.com/assessment/hackathons/)\\n  * [ Talent Assessment ](https://business.machinehack.com/assessment/)\\n  * [ Corporate Trainings ](https://adasci.org/corporate-trainings/)\\n\\n## OUR BRANDS\\n\\n  * [ AIM Research ](https://research.analyticsindiamag.com/)\\n  * [ MachineHack ](https://machinehack.com/)\\n  * [ Councils ](https://councils.analyticsindiamag.com/)\\n  * [ Best Firm Certification ](https://bestfirm.aimresearch.co/)\\n\\n## AIM Media House\\n\\n  * [ About ](https://analyticsindiamag.com/about/)\\n  * [ Videos ](https://www.youtube.com/channel/UCAlwrsgeJavG1vw9qSFOUmA?sub_confirmation=1)\\n  * [ Podcast ](https://www.youtube.com/@TheHotSeat-AIM)\\n  * [ Association of Data Scientists ](https://www.adasci.org/)\\n  * [ Advertise ](https://analyticsindiamag.com/advertise-with-us/)\\n  * [ Contact ](https://analyticsindiamag.com/contact-us/)\\n\\n©2018-2025 MLDS is a conference property owned by AIM Media House LLC. Any\\nunauthorized use of these names, or variations of these names, is a violation\\nof national & international laws.\\n\\n[__](javascript:;)\\n\\n[](javascript:;)\\n\\n', path=None, url=None, mimetype=None), image_resource=None, audio_resource=None, video_resource=None, text_template='{metadata_str}\\n\\n{content}')]"
            ]
          },
          "metadata": {},
          "execution_count": 6
        }
      ],
      "source": [
        "# Using SimpleWebPage reader to load the URL content\n",
        "# html_to_text=True argument will convert the HTML content on the URL into plain text.\n",
        "d1 = SimpleWebPageReader(html_to_text=True).load_data([url])\n",
        "d1"
      ]
    },
    {
      "cell_type": "markdown",
      "metadata": {
        "id": "ovjXg8fyMUtm"
      },
      "source": [
        "**Creating a vector data store using the data document**"
      ]
    },
    {
      "cell_type": "code",
      "execution_count": 7,
      "metadata": {
        "id": "IhuNuRPzMVKP",
        "colab": {
          "base_uri": "https://localhost:8080/"
        },
        "outputId": "a81c3d87-e997-4f1f-f287-58bae5fdc623"
      },
      "outputs": [
        {
          "output_type": "stream",
          "name": "stderr",
          "text": [
            "INFO:numexpr.utils:NumExpr defaulting to 2 threads.\n",
            "INFO:httpx:HTTP Request: POST https://api.openai.com/v1/embeddings \"HTTP/1.1 200 OK\"\n"
          ]
        }
      ],
      "source": [
        "# Create a searchable index from the loaded document named d1 using VectorStoreIndex\n",
        "index = VectorStoreIndex.from_documents(d1)"
      ]
    },
    {
      "cell_type": "markdown",
      "metadata": {
        "id": "83Xta1PNMW5-"
      },
      "source": [
        "**Using Query Engine and generating response based on the given query**"
      ]
    },
    {
      "cell_type": "code",
      "execution_count": 8,
      "metadata": {
        "colab": {
          "base_uri": "https://localhost:8080/"
        },
        "id": "jCFCYzgIMXR6",
        "outputId": "74fafa0d-cae0-455b-98e8-d286b7f5c407"
      },
      "outputs": [
        {
          "output_type": "stream",
          "name": "stderr",
          "text": [
            "INFO:httpx:HTTP Request: POST https://api.openai.com/v1/embeddings \"HTTP/1.1 200 OK\"\n",
            "INFO:httpx:HTTP Request: POST https://api.openai.com/v1/chat/completions \"HTTP/1.1 200 OK\"\n"
          ]
        },
        {
          "output_type": "stream",
          "name": "stdout",
          "text": [
            "MLDS is a developers' conference that brings together innovators and practitioners from various domains in India, including AI and Generative AI. The event showcases advancements in software development, cloud computing, web development, data engineering, and DevOps. Attendees can explore emerging trends, cutting-edge tools, and developer products, offering practical insights and hands-on learning experiences for those involved in building machine learning models, scaling enterprise applications, or pioneering new technologies.\n"
          ]
        }
      ],
      "source": [
        "# Creating query engine:\n",
        "query_engine = index.as_query_engine()\n",
        "\n",
        "# Running a query against the loaded URL data\n",
        "r1 = query_engine.query(\"What is MLDS?\")\n",
        "print(r1)"
      ]
    },
    {
      "cell_type": "markdown",
      "metadata": {
        "id": "ZTsy_AZTMbfN"
      },
      "source": [
        "**Running a second query**"
      ]
    },
    {
      "cell_type": "code",
      "execution_count": 9,
      "metadata": {
        "colab": {
          "base_uri": "https://localhost:8080/"
        },
        "id": "gHiJl5QjMcw-",
        "outputId": "6a2592f5-a8f7-4caa-9068-fce1b47a4682"
      },
      "outputs": [
        {
          "output_type": "stream",
          "name": "stderr",
          "text": [
            "INFO:httpx:HTTP Request: POST https://api.openai.com/v1/embeddings \"HTTP/1.1 200 OK\"\n",
            "INFO:httpx:HTTP Request: POST https://api.openai.com/v1/chat/completions \"HTTP/1.1 200 OK\"\n"
          ]
        },
        {
          "output_type": "stream",
          "name": "stdout",
          "text": [
            "MLDS 2025 will take place at the NIMHANS Convention Center in Bengaluru, India from Wednesday to Friday, February 5 - 7, 2025.\n"
          ]
        }
      ],
      "source": [
        "r2 = query_engine.query(\"Where and When was MLDS2025?\")\n",
        "print(r2)"
      ]
    }
  ],
  "metadata": {
    "colab": {
      "provenance": [],
      "include_colab_link": true
    },
    "kernelspec": {
      "display_name": "Python 3",
      "name": "python3"
    },
    "language_info": {
      "name": "python"
    }
  },
  "nbformat": 4,
  "nbformat_minor": 0
}