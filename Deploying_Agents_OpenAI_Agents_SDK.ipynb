{
  "nbformat": 4,
  "nbformat_minor": 0,
  "metadata": {
    "colab": {
      "provenance": [],
      "include_colab_link": true
    },
    "kernelspec": {
      "name": "python3",
      "display_name": "Python 3"
    },
    "language_info": {
      "name": "python"
    }
  },
  "cells": [
    {
      "cell_type": "markdown",
      "metadata": {
        "id": "view-in-github",
        "colab_type": "text"
      },
      "source": [
        "<a href=\"https://colab.research.google.com/github/m-adeleke1/Association_of_Data_Scientists/blob/main/Deploying_Agents_OpenAI_Agents_SDK.ipynb\" target=\"_parent\"><img src=\"https://colab.research.google.com/assets/colab-badge.svg\" alt=\"Open In Colab\"/></a>"
      ]
    },
    {
      "cell_type": "markdown",
      "source": [
        "### Library Installation"
      ],
      "metadata": {
        "id": "3F8El_XVHxPG"
      }
    },
    {
      "cell_type": "code",
      "source": [
        "import sys\n",
        "\n",
        "# !pip install pydantic-ai openai-agents nest-asyncio\n",
        "# !{sys.executable} -m pip install -q --upgrade \"openai==1.99.9\"\n",
        "\n",
        "import sys, importlib\n",
        "\n",
        "# 1) Install compatible versions into THIS interpreter\n",
        "!{sys.executable} -m pip install -q --upgrade \"openai==1.99.9\" \"openai-agents\"\n",
        "\n",
        "# 2) Safety shim: if your OpenAI build doesn't export ResponseTextConfigParam, add a stub\n",
        "responses = importlib.import_module(\"openai.types.responses\")\n",
        "if not hasattr(responses, \"ResponseTextConfigParam\"):\n",
        "    class ResponseTextConfigParam(dict):\n",
        "        \"\"\"Fallback stub for Agents SDK import; real type exists in openai<=1.99.x.\"\"\"\n",
        "        pass\n",
        "    responses.ResponseTextConfigParam = ResponseTextConfigParam  # monkey-patch for import\n",
        "\n",
        "# 3) Now import Agents SDK\n",
        "from agents import Agent, InputGuardrail, GuardrailFunctionOutput, Runner\n",
        "print(\"Agents SDK imported OK\")"
      ],
      "metadata": {
        "id": "nPH9EaMU9gRo",
        "colab": {
          "base_uri": "https://localhost:8080/"
        },
        "outputId": "c0c526dc-fba4-43d0-e544-118ee3729b38"
      },
      "execution_count": 7,
      "outputs": [
        {
          "output_type": "stream",
          "name": "stdout",
          "text": [
            "Agents SDK imported OK\n"
          ]
        }
      ]
    },
    {
      "cell_type": "markdown",
      "source": [
        "### Patching asyncio for allowing nested use of asyncio.run"
      ],
      "metadata": {
        "id": "rCNRXcGnH6O5"
      }
    },
    {
      "cell_type": "code",
      "source": [
        "import nest_asyncio\n",
        "nest_asyncio.apply()"
      ],
      "metadata": {
        "id": "U1uD4fu4_5H7"
      },
      "execution_count": 8,
      "outputs": []
    },
    {
      "cell_type": "markdown",
      "source": [
        "### Library Imports and OpenAI_API_KEY Initialization"
      ],
      "metadata": {
        "id": "LyhXD8BaIAHL"
      }
    },
    {
      "cell_type": "code",
      "source": [
        "from agents import Agent, InputGuardrail,GuardrailFunctionOutput, Runner\n",
        "from pydantic import BaseModel\n",
        "from google.colab import userdata\n",
        "import asyncio\n",
        "import os\n",
        "\n",
        "os.environ[\"OPENAI_API_KEY\"] = userdata.get(\"OPENAI_API_KEY\")"
      ],
      "metadata": {
        "id": "1Ay4O6y48ceE"
      },
      "execution_count": 9,
      "outputs": []
    },
    {
      "cell_type": "markdown",
      "source": [
        "### Setting up Agents for Guardrails and Handoffs"
      ],
      "metadata": {
        "id": "L4kY1ts5IGKL"
      }
    },
    {
      "cell_type": "code",
      "source": [
        "class ResearchOutput(BaseModel):\n",
        "    is_research: bool\n",
        "    reasoning: str\n",
        "\n",
        "guardrail_agent = Agent(\n",
        "    name=\"Guardrail check\",\n",
        "    instructions=\"Check if the user is asking about research.\",\n",
        "    output_type=ResearchOutput,\n",
        ")\n",
        "\n",
        "cs_research_agent = Agent(\n",
        "    name=\"CS Researcher\",\n",
        "    handoff_description=\"Specialist agent for Computer Science Research\",\n",
        "    instructions=\"You provide help with CS research. Explain your reasoning at each step and include examples\",\n",
        ")\n",
        "\n",
        "bio_research_agent = Agent(\n",
        "    name=\"Biology Researcher\",\n",
        "    handoff_description=\"Specialist agent for Biological Research\",\n",
        "    instructions=\"You assist with biological research. Explain important events and context clearly.\",\n",
        ")"
      ],
      "metadata": {
        "id": "lwkKQ8T68el_"
      },
      "execution_count": 10,
      "outputs": []
    },
    {
      "cell_type": "markdown",
      "source": [
        "### Defining Guardrail Trigger"
      ],
      "metadata": {
        "id": "UETH3fkeIQVQ"
      }
    },
    {
      "cell_type": "code",
      "source": [
        "async def research_guardrail(ctx, agent, input_data):\n",
        "    result = await Runner.run(guardrail_agent, input_data, context=ctx.context)\n",
        "    final_output = result.final_output_as(ResearchOutput)\n",
        "    return GuardrailFunctionOutput(\n",
        "        output_info=final_output,\n",
        "        tripwire_triggered=not final_output.is_research,\n",
        "    )"
      ],
      "metadata": {
        "id": "ZzxHqGLw921E"
      },
      "execution_count": 11,
      "outputs": []
    },
    {
      "cell_type": "markdown",
      "source": [
        "### Handoff Setup"
      ],
      "metadata": {
        "id": "4Qr5h0QlIYKS"
      }
    },
    {
      "cell_type": "code",
      "source": [
        "triage_agent = Agent(\n",
        "    name=\"Triage Agent\",\n",
        "    instructions=\"You determine which agent to use based on the user's research question\",\n",
        "    handoffs=[cs_research_agent, bio_research_agent],\n",
        "    input_guardrails=[\n",
        "        InputGuardrail(guardrail_function=research_guardrail),\n",
        "    ],\n",
        ")"
      ],
      "metadata": {
        "id": "ciL-Up6C-FND"
      },
      "execution_count": 12,
      "outputs": []
    },
    {
      "cell_type": "markdown",
      "source": [
        "### Explicit Tracer Setup"
      ],
      "metadata": {
        "id": "DCakwRKvIbtZ"
      }
    },
    {
      "cell_type": "code",
      "source": [
        "from agents.tracing.setup import GLOBAL_TRACE_PROVIDER\n",
        "from agents import set_tracing_export_api_key\n",
        "\n",
        "#set_tracing_export_api_key('sk-proj-PAI0T_-***********************************************')\n",
        "\n",
        "GLOBAL_TRACE_PROVIDER._multi_processor.force_flush()"
      ],
      "metadata": {
        "id": "-uDy9VTA-2mx"
      },
      "execution_count": 14,
      "outputs": []
    },
    {
      "cell_type": "markdown",
      "source": [
        "### Executing the Agent"
      ],
      "metadata": {
        "id": "9T9FjI4zIeoo"
      }
    },
    {
      "cell_type": "code",
      "source": [
        "async def main():\n",
        "    result = await Runner.run(triage_agent, \"What is Agentic AI?\")\n",
        "    print(result.final_output)"
      ],
      "metadata": {
        "id": "i1fH75Yd-Gih"
      },
      "execution_count": 15,
      "outputs": []
    },
    {
      "cell_type": "code",
      "source": [
        "import os, asyncio\n",
        "from pydantic import BaseModel, Field\n",
        "from agents import Agent, InputGuardrail, GuardrailFunctionOutput, Runner\n",
        "from google.colab import userdata\n",
        "\n",
        "# Ensure the key is set for Agents SDK\n",
        "os.environ[\"OPENAI_API_KEY\"] = userdata.get(\"OPENAI_API_KEY\")\n",
        "\n",
        "# ---- Typed output for the guardrail ----\n",
        "class ResearchOutput(BaseModel):\n",
        "    is_research: bool = Field(..., description=\"True if the user message is a research/knowledge-seeking query.\")\n",
        "    confidence: float = Field(..., ge=0, le=1, description=\"Model's confidence in the classification.\")\n",
        "    reasoning: str = Field(..., description=\"Short rationale for the classification.\")\n",
        "\n",
        "# ---- Guardrail classifier agent ----\n",
        "guardrail_agent = Agent(\n",
        "    name=\"Guardrail check\",\n",
        "    instructions=(\n",
        "        \"You are a binary classifier for whether the user's message is a RESEARCH query.\\n\"\n",
        "        \"Definition of research: academic/technical knowledge-seeking (explanations, concepts, literature, \"\n",
        "        \"comparisons of methods, hypotheses, taxonomies, background context, summaries of fields).\\n\\n\"\n",
        "        \"Examples that ARE research:\\n\"\n",
        "        \" - 'What is Agentic AI?'\\n\"\n",
        "        \" - 'Summarize recent papers on diffusion models'\\n\"\n",
        "        \" - 'Explain the difference between CNNs and Transformers'\\n\"\n",
        "        \" - 'What are best practices for RAG evaluation?'\\n\\n\"\n",
        "        \"Examples that are NOT research:\\n\"\n",
        "        \" - 'Tell me a joke'\\n\"\n",
        "        \" - 'Translate this sentence' (no research context)\\n\"\n",
        "        \" - 'Schedule a meeting for me'\\n\"\n",
        "        \" - 'Write code to scrape this site' (pure tasking, not knowledge seeking)\\n\\n\"\n",
        "        \"Ambiguity policy: If there is any doubt, set is_research=true. \"\n",
        "        \"Return ONLY the JSON matching the provided schema.\"\n",
        "    ),\n",
        "    output_type=ResearchOutput,\n",
        ")\n",
        "\n",
        "# ---- Specialists ----\n",
        "cs_research_agent = Agent(\n",
        "    name=\"CS Researcher\",\n",
        "    handoff_description=\"Specialist agent for Computer Science Research\",\n",
        "    instructions=\"You provide help with CS research. Be clear and structured; include examples when useful.\"\n",
        ")\n",
        "\n",
        "bio_research_agent = Agent(\n",
        "    name=\"Biology Researcher\",\n",
        "    handoff_description=\"Specialist agent for Biological Research\",\n",
        "    instructions=\"You assist with biological research. Explain important mechanisms and context clearly.\"\n",
        ")\n",
        "\n",
        "# ---- Guardrail function ----\n",
        "async def research_guardrail(ctx, agent, input_data):\n",
        "    try:\n",
        "        result = await Runner.run(guardrail_agent, input_data, context=ctx.context)\n",
        "        final_output = result.final_output_as(ResearchOutput)\n",
        "        # Only trip if confidently NON-research\n",
        "        should_block = (final_output.is_research is False) and (final_output.confidence >= 0.85)\n",
        "        return GuardrailFunctionOutput(\n",
        "            output_info=final_output,\n",
        "            tripwire_triggered=should_block,\n",
        "        )\n",
        "    except Exception as e:\n",
        "        # Fail open: if the classifier has trouble, don't block the user\n",
        "        fallback = ResearchOutput(is_research=True, confidence=0.0, reasoning=f\"Guardrail error: {e}\")\n",
        "        return GuardrailFunctionOutput(output_info=fallback, tripwire_triggered=False)\n",
        "\n",
        "# ---- Triage agent with guardrail ----\n",
        "triage_agent = Agent(\n",
        "    name=\"Triage Agent\",\n",
        "    instructions=(\n",
        "        \"You determine which agent to use based on the user's research question. \"\n",
        "        \"If the topic is computer science/AI/ML/software, choose CS Researcher. \"\n",
        "        \"If biological/life sciences, choose Biology Researcher. \"\n",
        "        \"Otherwise answer directly.\"\n",
        "    ),\n",
        "    handoffs=[cs_research_agent, bio_research_agent],\n",
        "    input_guardrails=[InputGuardrail(guardrail_function=research_guardrail)],\n",
        ")\n",
        "\n",
        "# ---- Optional tracing (safe if tracing not configured) ----\n",
        "try:\n",
        "    from agents.tracing.setup import GLOBAL_TRACE_PROVIDER\n",
        "    GLOBAL_TRACE_PROVIDER._multi_processor.force_flush()\n",
        "except Exception:\n",
        "    pass\n",
        "\n",
        "# ---- Demo ----\n",
        "async def main():\n",
        "    query = \"What is Agentic AI?\"\n",
        "    result = await Runner.run(triage_agent, query)\n",
        "    print(result.final_output)\n",
        "\n",
        "if __name__ == \"__main__\":\n",
        "    asyncio.run(main())\n"
      ],
      "metadata": {
        "colab": {
          "base_uri": "https://localhost:8080/"
        },
        "id": "N5L396IS-HyE",
        "outputId": "d169de07-990b-48a9-84ee-1a34096cbf09"
      },
      "execution_count": 17,
      "outputs": [
        {
          "output_type": "stream",
          "name": "stdout",
          "text": [
            "**Agentic AI** refers to artificial intelligence systems designed to act as **autonomous agents**—entities that can perceive their environment, make decisions, and take actions independently to achieve specific goals. The term “agentic” comes from “agency,” meaning the ability to act and make choices. Let’s break this concept down:\n",
            "\n",
            "### Key Features of Agentic AI\n",
            "\n",
            "1. **Autonomy:**  \n",
            "   Agentic AI operates with a significant degree of independence, making decisions without direct human intervention.\n",
            "\n",
            "2. **Goal-Directed Behavior:**  \n",
            "   Agentic AIs are typically designed to pursue objectives, which can range from simple tasks (like organizing emails) to complex ones (like managing supply chains).\n",
            "\n",
            "3. **Environment Interaction:**  \n",
            "   Such AIs perceive their world (via sensors, data feeds, etc.) and act on it (sending commands, communicating, or physically manipulating objects).\n",
            "\n",
            "4. **Learning and Adaptation:**  \n",
            "   Often, agentic AIs can learn from their environment, adapt strategies, and improve their performance over time.\n",
            "\n",
            "### Examples\n",
            "\n",
            "- **Virtual Personal Assistants:** Like advanced versions of Siri or Alexa with the ability to autonomously accomplish complex multi-step tasks.\n",
            "- **Autonomous Robots:** Such as drones that independently map unknown terrain.\n",
            "- **Multi-Agent Systems:** Groups of agentic AIs cooperating (or competing) to solve problems, as in some video games, stock trading, or smart grid management.\n",
            "\n",
            "### Context in AI Research\n",
            "\n",
            "- **Agentic AI is a central concept in fields like:**\n",
            "  - **Reinforcement Learning**\n",
            "  - **Autonomous Systems**\n",
            "  - **Multi-Agent Systems**\n",
            "- In discussions about AI safety and ethics, “agentic AI” often refers to systems capable of pursuing their own subgoals, which can sometimes misalign with human values or intentions.\n",
            "\n",
            "### Contrast with Tool AI\n",
            "\n",
            "- **Tool AI:** Responds to inputs with outputs but does not act independently (e.g., a calculator).\n",
            "- **Agentic AI:** Initiates actions, operates in dynamic environments, and may proactively seek information or make plans.\n",
            "\n",
            "If you want technical details or examples from current AI research, let me know!\n"
          ]
        }
      ]
    }
  ]
}